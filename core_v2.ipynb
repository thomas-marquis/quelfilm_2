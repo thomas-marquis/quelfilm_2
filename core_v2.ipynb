{
 "cells": [
  {
   "cell_type": "code",
   "execution_count": 1,
   "metadata": {},
   "outputs": [],
   "source": [
    "from quelfilm import utils\n",
    "from quelfilm.nlp.load import MdLoader\n",
    "from quelfilm.nlp.preprocessing import Preprocessing\n",
    "from quelfilm.nlp.representation import MergedMatrixRepresentation\n",
    "from quelfilm.nlp.classifier import NaiveBayseClassifier, ClassificationProcessor, NaiveBayseTfIdfClassifier"
   ]
  },
  {
   "cell_type": "code",
   "execution_count": 13,
   "metadata": {},
   "outputs": [
    {
     "name": "stdout",
     "output_type": "stream",
     "text": [
      "./training.md\n"
     ]
    },
    {
     "name": "stderr",
     "output_type": "stream",
     "text": [
      "[nltk_data] Error loading french: Package 'french' not found in index\n"
     ]
    }
   ],
   "source": [
    "loader = MdLoader('./training.md')\n",
    "processor = Preprocessing(loader)\n",
    "all_data = processor.data"
   ]
  },
  {
   "cell_type": "code",
   "execution_count": 81,
   "metadata": {},
   "outputs": [],
   "source": [
    "import numpy as np\n",
    "import typing as t\n",
    "\n",
    "\n",
    "class DataGroup:\n",
    "    test: t.Dict[str, np.array]\n",
    "    train: t.Dict[str, np.array]\n",
    "\n",
    "\n",
    "def get_spliting_idx(splits: int, array: np.array) -> np.array:\n",
    "    length = len(array)\n",
    "    elements = length // splits\n",
    "    rest = length % splits\n",
    "    split_idx = np.full(splits, elements)\n",
    "    split_idx[0] = split_idx[0] + rest\n",
    "    return split_idx\n",
    "\n",
    "\n",
    "def get_masks(splits: int, array: np.array) -> t.List[np.array]:\n",
    "    split_idx: np.array = get_spliting_idx(splits, array)\n",
    "    masks = []\n",
    "    for i in range(len(split_idx)):\n",
    "        mask = np.zeros(len(array))\n",
    "        if i == 0:\n",
    "            ones = np.ones(split_idx[i])\n",
    "            mask = np.concatenate((ones, np.zeros(len(array) - len(ones))))\n",
    "        else:\n",
    "            for j in range(sum(split_idx[:i]), sum(split_idx[:i+1])):\n",
    "                mask[j] = 1\n",
    "        mask = mask == 1\n",
    "        masks.append(mask)\n",
    "    return masks\n",
    "\n",
    "\n",
    "def convert_to_numpy(data: t.Dict[str, t.List[t.List]]) -> t.Dict[str, np.array]:\n",
    "    to_numpy = lambda arrays: [np.array(a) for a in arrays]\n",
    "    return {k:np.array(to_numpy(data[k])) for k in data}\n",
    "\n",
    "\n",
    "def split_datasets(splits: int, data_set: t.Dict[str, list]) -> t.List[DataGroup]:\n",
    "    data_set: t.Dict[str, np.array] = convert_to_numpy(data_set)\n",
    "    for intent in data_set.keys():\n",
    "        intent_masks: t.List[np.array] = get_masks(split, data_set[intent])\n",
    "        \n",
    "        "
   ]
  },
  {
   "cell_type": "code",
   "execution_count": null,
   "metadata": {},
   "outputs": [],
   "source": [
    "def get_spliting_idx(splits, array) -> np.array:\n",
    "    length = len(array)\n",
    "    elements = length // splits\n",
    "    rest = length % splits\n",
    "    split_idx = np.full(splits, elements)\n",
    "    split_idx[0] = split_idx[0] + rest\n",
    "    return split_idx\n",
    "    \n",
    "def split_datasets(splits: int, data_set: dict):\n",
    "    fragments = list()\n",
    "    data = convert_to_numpy(data_set)\n",
    "    splits_index: dict = {k:get_spliting_idx(splits, data[k]) for k in data}\n",
    "    for intent in data_set.keys():\n",
    "        split_idx = splits_index[intent]\n",
    "        fragment = dict()\n",
    "        \n",
    "        \n",
    "        fragments.append(fragment)"
   ]
  },
  {
   "cell_type": "code",
   "execution_count": 2,
   "metadata": {},
   "outputs": [
    {
     "name": "stderr",
     "output_type": "stream",
     "text": [
      "[nltk_data] Error loading french: Package 'french' not found in index\n"
     ]
    },
    {
     "name": "stdout",
     "output_type": "stream",
     "text": [
      "./training.md\n"
     ]
    }
   ],
   "source": [
    "\n",
    "merged_matrix_repr = MergedMatrixRepresentation(processor.data)"
   ]
  },
  {
   "cell_type": "code",
   "execution_count": 12,
   "metadata": {},
   "outputs": [
    {
     "data": {
      "text/plain": [
       "{'welcome': [['salut'],\n",
       "  ['coucou'],\n",
       "  ['bonjour'],\n",
       "  ['yo'],\n",
       "  ['yop'],\n",
       "  ['hello'],\n",
       "  ['ça', 'va'],\n",
       "  ['bijour'],\n",
       "  ['kikou'],\n",
       "  ['hi'],\n",
       "  ['bien', 'quoi'],\n",
       "  ['bienvenu'],\n",
       "  ['réveil'],\n",
       "  ['hep'],\n",
       "  ['hey'],\n",
       "  ['allo']],\n",
       " 'search_movie': [['cherch', 'film'],\n",
       "  ['don', 'idé', 'film'],\n",
       "  ['aim', 'savoir', 'quel', 'film', 'voir', 'soir'],\n",
       "  ['cherch', 'film', 'voir'],\n",
       "  ['veux', 'regard', 'film'],\n",
       "  ['don', 'film'],\n",
       "  ['idé', 'film'],\n",
       "  ['recherch', 'film'],\n",
       "  ['sais', 'quoi', 'regard', 'comm', 'film'],\n",
       "  ['quel', 'film', 'voir', 'moment'],\n",
       "  ['besoin', 'idé', 'film', 'voir'],\n",
       "  ['veux', 'voir', 'film', 'cet', 'anné'],\n",
       "  ['film', 'sort', 'a', 'longtemp'],\n",
       "  ['film', 'sort', 'cet', 'anné'],\n",
       "  ['idé', 'truc', 'voir'],\n",
       "  ['film', 'voir'],\n",
       "  ['sais', 'quoi', 'regard', 'comm', 'film', 'soir'],\n",
       "  ['besoin', 'idé', 'film'],\n",
       "  ['idé', 'film', 'voir'],\n",
       "  ['quel', 'film', 'peux', 'voir', 'soir'],\n",
       "  ['sais', 'quoi', 'mat', 'comm', 'film'],\n",
       "  ['matt', 'film'],\n",
       "  ['regard', 'bon', 'film'],\n",
       "  ['don', 'idé', 'truc', 'voir'],\n",
       "  ['con', 'bon', 'film'],\n",
       "  ['idé', 'film'],\n",
       "  ['sais', 'trop', 'quoi', 'voir', 'soir', 'comm', 'film'],\n",
       "  ['cherch', 'idé', 'film'],\n",
       "  ['coucou', 'cherch', 'idé', 'film'],\n",
       "  ['salut', 'cherch', 'idé', 'film'],\n",
       "  ['hello', 'cherch', 'idé', 'film']],\n",
       " 'search_cinema': [['quel', 'cinem', 'plus', 'proch'],\n",
       "  ['cin', 'loin'],\n",
       "  ['cinem', 'côt', 'chez'],\n",
       "  ['cin', 'bordeau'],\n",
       "  ['où', 'cinem', 'pessac'],\n",
       "  ['cherch', 'cin', 'côt'],\n",
       "  ['con', 'sall', 'cin', 'loin'],\n",
       "  ['quoi', 'cin', 'plus', 'proch'],\n",
       "  ['dis', 'où', 'cinem', 'plus', 'proch'],\n",
       "  ['cin', 'trop', 'loin'],\n",
       "  ['sall', 'cin', 'moin', 'loin'],\n",
       "  ['où', 'cin', 'plus', 'proch'],\n",
       "  ['aim', 'bien', 'aller', 'cinem', 'soir'],\n",
       "  ['aller', 'cin', 'soir'],\n",
       "  ['aller', 'cinem', 'aujourd', 'hui'],\n",
       "  ['trouv', 'cinem', 'plus', 'proch'],\n",
       "  ['veux', 'aller', 'cin']],\n",
       " 'meteo': [['quel', 'temp', 'fait', 'demain'],\n",
       "  ['pleut', 'aujourd', 'hui'],\n",
       "  ['fait', 'beau', 'cet', 'semain'],\n",
       "  ['quoi', 'météo', 'jour'],\n",
       "  ['fait', 'quel', 'temp'],\n",
       "  ['quoi', 'met', 'jour'],\n",
       "  ['météo'],\n",
       "  ['fait', 'froid', 'aujourd', 'hui'],\n",
       "  ['fer', 'quel', 'temp', 'cet', 'semain'],\n",
       "  ['fer', 'chaud'],\n",
       "  ['pleut', 'soir'],\n",
       "  ['quel', 'temp', 'fait']]}"
      ]
     },
     "execution_count": 12,
     "metadata": {},
     "output_type": "execute_result"
    }
   ],
   "source": [
    "processor.data"
   ]
  },
  {
   "cell_type": "code",
   "execution_count": 3,
   "metadata": {},
   "outputs": [
    {
     "data": {
      "text/plain": [
       "{'welcome': array([0.09873647, 0.09873647, 0.11755085, 0.11755085, 0.11755085,\n",
       "        0.09873647, 0.11755085, 0.11755085, 0.11755085, 0.11755085,\n",
       "        0.11755085, 0.09873647, 0.06110773, 0.11755085, 0.11755085,\n",
       "        0.11755085, 0.11755085, 0.11755085, 0.        , 0.        ,\n",
       "        0.        , 0.        , 0.        , 0.        , 0.        ,\n",
       "        0.        , 0.        , 0.        , 0.        , 0.        ,\n",
       "        0.        , 0.        , 0.        , 0.        , 0.        ,\n",
       "        0.        , 0.        , 0.        , 0.        , 0.        ,\n",
       "        0.        , 0.        , 0.        , 0.        , 0.        ,\n",
       "        0.        , 0.        , 0.        , 0.        , 0.        ,\n",
       "        0.        , 0.        , 0.        , 0.        , 0.        ,\n",
       "        0.        , 0.        , 0.        , 0.        , 0.        ,\n",
       "        0.        , 0.        , 0.        , 0.        , 0.        ,\n",
       "        0.        , 0.        , 0.        , 0.        , 0.        ,\n",
       "        0.        , 0.        , 0.        , 0.        , 0.        ]),\n",
       " 'search_movie': array([0.05096076, 0.05096076, 0.        , 0.        , 0.        ,\n",
       "        0.05096076, 0.        , 0.        , 0.        , 0.        ,\n",
       "        0.        , 0.        , 0.12615788, 0.        , 0.        ,\n",
       "        0.        , 0.        , 0.        , 0.20046107, 0.39142104,\n",
       "        0.13584119, 0.3103093 , 0.05096076, 0.06067141, 0.09461841,\n",
       "        0.29785903, 0.13364072, 0.0905608 , 0.16500046, 0.06067141,\n",
       "        0.16500046, 0.16500046, 0.06067141, 0.10192152, 0.08250023,\n",
       "        0.10192152, 0.10192152, 0.06067141, 0.06067141, 0.10192152,\n",
       "        0.06067141, 0.06067141, 0.06067141, 0.10192152, 0.05096076,\n",
       "        0.05096076, 0.        , 0.        , 0.        , 0.        ,\n",
       "        0.        , 0.        , 0.        , 0.        , 0.        ,\n",
       "        0.        , 0.        , 0.        , 0.        , 0.        ,\n",
       "        0.        , 0.        , 0.        , 0.        , 0.        ,\n",
       "        0.        , 0.        , 0.        , 0.        , 0.        ,\n",
       "        0.        , 0.        , 0.        , 0.        , 0.        ]),\n",
       " 'search_cinema': array([0.        , 0.        , 0.        , 0.        , 0.        ,\n",
       "        0.        , 0.        , 0.        , 0.        , 0.        ,\n",
       "        0.        , 0.09292845, 0.05751315, 0.        , 0.        ,\n",
       "        0.        , 0.        , 0.        , 0.06092444, 0.        ,\n",
       "        0.        , 0.        , 0.09292845, 0.        , 0.05751315,\n",
       "        0.        , 0.12184889, 0.08257014, 0.        , 0.        ,\n",
       "        0.        , 0.        , 0.        , 0.        , 0.        ,\n",
       "        0.        , 0.        , 0.        , 0.        , 0.        ,\n",
       "        0.        , 0.        , 0.        , 0.        , 0.09292845,\n",
       "        0.09292845, 0.42647111, 0.34760106, 0.34760106, 0.51812564,\n",
       "        0.3008832 , 0.18585689, 0.11063609, 0.11063609, 0.24771041,\n",
       "        0.11063609, 0.18585689, 0.11063609, 0.11063609, 0.3008832 ,\n",
       "        0.08257014, 0.08257014, 0.11063609, 0.        , 0.        ,\n",
       "        0.        , 0.        , 0.        , 0.        , 0.        ,\n",
       "        0.        , 0.        , 0.        , 0.        , 0.        ]),\n",
       " 'meteo': array([0.        , 0.        , 0.        , 0.        , 0.        ,\n",
       "        0.        , 0.        , 0.        , 0.        , 0.        ,\n",
       "        0.        , 0.        , 0.16295393, 0.        , 0.        ,\n",
       "        0.        , 0.        , 0.        , 0.        , 0.        ,\n",
       "        0.        , 0.        , 0.        , 0.        , 0.32590787,\n",
       "        0.        , 0.08630963, 0.        , 0.        , 0.        ,\n",
       "        0.        , 0.        , 0.        , 0.        , 0.2131256 ,\n",
       "        0.        , 0.        , 0.        , 0.        , 0.        ,\n",
       "        0.        , 0.        , 0.        , 0.        , 0.        ,\n",
       "        0.        , 0.        , 0.        , 0.        , 0.        ,\n",
       "        0.        , 0.        , 0.        , 0.        , 0.        ,\n",
       "        0.        , 0.        , 0.        , 0.        , 0.        ,\n",
       "        0.23394872, 0.23394872, 0.        , 0.4262512 , 0.49243483,\n",
       "        0.15673447, 0.26329727, 0.15673447, 0.26329727, 0.26329727,\n",
       "        0.26329727, 0.15673447, 0.15673447, 0.26329727, 0.15673447])}"
      ]
     },
     "execution_count": 3,
     "metadata": {},
     "output_type": "execute_result"
    }
   ],
   "source": [
    "classifier = NaiveBayseTfIdfClassifier()\n",
    "classifier_processor = ClassificationProcessor(classifier, merged_matrix_repr.data)\n",
    "classifier_processor.train()\n",
    "classifier.tf_idf"
   ]
  },
  {
   "cell_type": "code",
   "execution_count": 4,
   "metadata": {},
   "outputs": [
    {
     "name": "stdout",
     "output_type": "stream",
     "text": [
      "0.0\n",
      "0.0\n",
      "0.4924348283103219\n"
     ]
    }
   ],
   "source": [
    "print(classifier.tf_idf['welcome'][64])\n",
    "print(classifier.tf_idf['search_movie'][64])\n",
    "print(classifier.tf_idf['meteo'][64])"
   ]
  },
  {
   "cell_type": "code",
   "execution_count": 11,
   "metadata": {},
   "outputs": [
    {
     "name": "stdout",
     "output_type": "stream",
     "text": [
      "search_movie 0.1935483870967742\n",
      "search_cinema 0.6470588235294118\n",
      "[0. 0. 0. 0. 0. 0. 0. 0. 0. 0. 0. 0. 0. 0. 0. 0. 0. 0. 1. 0. 0. 0. 0. 0.\n",
      " 0. 0. 0. 0. 0. 0. 0. 0. 0. 0. 0. 0. 0. 0. 0. 0. 0. 0. 0. 0. 0. 0. 0. 0.\n",
      " 0. 1. 0. 0. 0. 0. 0. 0. 0. 0. 0. 0. 0. 0. 0. 0. 0. 0. 0. 0. 0. 0. 0. 0.\n",
      " 0. 0. 0.]\n",
      "Empty DataFrame\n",
      "Columns: [lem, index]\n",
      "Index: []\n"
     ]
    },
    {
     "data": {
      "text/plain": [
       "'va sur google !'"
      ]
     },
     "execution_count": 11,
     "metadata": {},
     "output_type": "execute_result"
    }
   ],
   "source": [
    "message = \"je cherche un ciné\"\n",
    "message = processor.process_sentence(message)\n",
    "message = merged_matrix_repr.process_new_data(message)\n",
    "res = classifier_processor.predict(message)\n",
    "print(message)\n",
    "print(merged_matrix_repr.index.loc[merged_matrix_repr.index['lem'] == 't-il'])\n",
    "utils.get_random_message(processor.responses[res[0]])"
   ]
  },
  {
   "cell_type": "code",
   "execution_count": 6,
   "metadata": {},
   "outputs": [
    {
     "name": "stdout",
     "output_type": "stream",
     "text": [
      "[0. 0. 0.]\n",
      "[0.09461841 0.         0.        ]\n",
      "[0.32590787 0.4262512  0.49243483]\n"
     ]
    },
    {
     "data": {
      "text/plain": [
       "0.0684083673568854"
      ]
     },
     "execution_count": 6,
     "metadata": {},
     "output_type": "execute_result"
    }
   ],
   "source": [
    "idx = merged_matrix_repr.index.loc[message == 1, 'index'].values\n",
    "print(classifier.tf_idf['welcome'][idx])\n",
    "print(classifier.tf_idf['search_movie'][idx])\n",
    "print(classifier.tf_idf['meteo'][idx])\n",
    "0.32590787 * 0.4262512 * 0.49243483"
   ]
  },
  {
   "cell_type": "code",
   "execution_count": 7,
   "metadata": {},
   "outputs": [],
   "source": [
    "classifier = NaiveBayseClassifier()\n",
    "classifier_processor = ClassificationProcessor(classifier, merged_matrix_repr.data)\n",
    "classifier_processor.train()"
   ]
  },
  {
   "cell_type": "code",
   "execution_count": 8,
   "metadata": {
    "scrolled": true
   },
   "outputs": [
    {
     "name": "stdout",
     "output_type": "stream",
     "text": [
      "search_movie 0.0967741935483871\n",
      "search_cinema 0.058823529411764705\n",
      "meteo 1.0833333333333333\n"
     ]
    },
    {
     "data": {
      "text/plain": [
       "\"il fait moche ! Non, je déconne ! J'en sais rien !\""
      ]
     },
     "execution_count": 8,
     "metadata": {},
     "output_type": "execute_result"
    }
   ],
   "source": [
    "message = \"quel temps fait-il ?\"\n",
    "message = processor.process_sentence(message)\n",
    "message = merged_matrix_repr.process_new_data(message)\n",
    "res = classifier_processor.predict(message)\n",
    "utils.get_random_message(processor.responses[res[0]])"
   ]
  },
  {
   "cell_type": "code",
   "execution_count": 9,
   "metadata": {},
   "outputs": [
    {
     "data": {
      "text/plain": [
       "60    aujourd\n",
       "61        hui\n",
       "62      trouv\n",
       "63       temp\n",
       "64       fait\n",
       "65     demain\n",
       "66      pleut\n",
       "67       beau\n",
       "68     semain\n",
       "69      météo\n",
       "70       jour\n",
       "71        met\n",
       "72      froid\n",
       "73        fer\n",
       "74      chaud\n",
       "Name: lem, dtype: object"
      ]
     },
     "execution_count": 9,
     "metadata": {},
     "output_type": "execute_result"
    }
   ],
   "source": [
    "merged_matrix_repr.index.loc[60:, 'lem']"
   ]
  }
 ],
 "metadata": {
  "kernelspec": {
   "display_name": "Python 3",
   "language": "python",
   "name": "python3"
  },
  "language_info": {
   "codemirror_mode": {
    "name": "ipython",
    "version": 3
   },
   "file_extension": ".py",
   "mimetype": "text/x-python",
   "name": "python",
   "nbconvert_exporter": "python",
   "pygments_lexer": "ipython3",
   "version": "3.6.8"
  }
 },
 "nbformat": 4,
 "nbformat_minor": 2
}
